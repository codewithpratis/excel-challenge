{
 "cells": [
  {
   "cell_type": "code",
   "execution_count": 2,
   "metadata": {},
   "outputs": [],
   "source": [
    "# Dependencies and Setup\n",
    "import matplotlib.pyplot as plt\n",
    "import csv\n",
    "import pandas as pd\n",
    "import numpy as np\n",
    "import requests\n",
    "import json\n",
    "from pprint import pprint\n",
    "from pandas.io.json import json_normalize\n",
    "import time\n",
    "\n",
    "\n",
    "\n",
    "# Import API key\n",
    "from api_key import brew\n"
   ]
  },
  {
   "cell_type": "code",
   "execution_count": 4,
   "metadata": {},
   "outputs": [],
   "source": [
    "# loop through each breweries id code and save it to an individual csv by names list\n",
    "base_url = \"https://api.brewerydb.com/v2/\"\n",
    "\n",
    "params = ['EdRcIs','6PBXvz','BznahA','1wSztN','UWBCmm','avMkil','wadu38','robMSl','nLsoQ9','hGFVYy','nHLlnK','i7Ceoi','4cUfa1','vdwbRU']\n",
    "\n",
    "names = ['21st_Amendment','Anchor_Brewing','anheuser_busch','Boston_Beer','Cervecería_Cuauhtémoc_Moctezuma(Tecate)','Coors','Grupo_Modelo(Corona)','Heineken','lagunitas','Miller','sierra_nevada','Stone','Track_7','white_claw']\n",
    "\n",
    "\n",
    "for (param, name) in zip(params,names):\n",
    "    urlq = f\"{base_url}/brewery/{param}/beers?key={brew}\"\n",
    "    response = requests.get(urlq).json()\n",
    "    brewery = json_normalize(response['data'])\n",
    "    brewery.to_csv(f'breweries/{name}.csv',index=False)\n"
   ]
  },
  {
   "cell_type": "code",
   "execution_count": 15,
   "metadata": {
    "tags": [
     "outputPrepend",
     "outputPrepend",
     "outputPrepend",
     "outputPrepend",
     "outputPrepend",
     "outputPrepend",
     "outputPrepend",
     "outputPrepend",
     "outputPrepend",
     "outputPrepend",
     "outputPrepend"
    ]
   },
   "outputs": [
    {
     "output_type": "stream",
     "name": "stdout",
     "text": "Page 1 succssful\nPage 2 succssful\nPage 3 succssful\nPage 4 succssful\nPage 5 succssful\nPage 6 succssful\nPage 7 succssful\nPage 8 succssful\nPage 9 succssful\nPage 10 succssful\nPage 11 succssful\nPage 12 succssful\nPage 13 succssful\nPage 14 succssful\nPage 15 succssful\nPage 16 succssful\nPage 17 succssful\nPage 18 succssful\nPage 19 succssful\nPage 20 succssful\nPage 21 succssful\nPage 22 succssful\nPage 23 succssful\nPage 24 succssful\nPage 25 succssful\nPage 26 succssful\nPage 27 succssful\nPage 28 succssful\nPage 29 succssful\nPage 30 succssful\nPage 31 succssful\nPage 32 succssful\nPage 33 succssful\nPage 34 succssful\nPage 35 succssful\nPage 36 succssful\nPage 37 succssful\nPage 38 succssful\nPage 39 succssful\nPage 40 succssful\nPage 41 succssful\nPage 42 succssful\nPage 43 succssful\nPage 44 succssful\nPage 45 succssful\nPage 46 succssful\nPage 47 succssful\nPage 48 succssful\nPage 49 succssful\nPage 50 succssful\nPage 51 succssful\nPage 52 succssful\nPage 53 succssful\nPage 54 succssful\nPage 55 succssful\nPage 56 succssful\nPage 57 succssful\nPage 58 succssful\nPage 59 succssful\nPage 60 succssful\nPage 61 succssful\nPage 62 succssful\nPage 63 succssful\nPage 64 succssful\nPage 65 succssful\nPage 66 succssful\nPage 67 succssful\nPage 68 succssful\nPage 69 succssful\nPage 70 succssful\nPage 71 succssful\nPage 72 succssful\nPage 73 succssful\nPage 74 succssful\nPage 75 succssful\nPage 76 succssful\nPage 77 succssful\nPage 78 succssful\nPage 79 succssful\nPage 80 succssful\nPage 81 succssful\nPage 82 succssful\nPage 83 succssful\nPage 84 succssful\nPage 85 succssful\nPage 86 succssful\nPage 87 succssful\nPage 88 succssful\nPage 89 succssful\nPage 90 succssful\nPage 91 succssful\nPage 92 succssful\nPage 93 succssful\nPage 94 succssful\nPage 95 succssful\nPage 96 succssful\nPage 97 succssful\nPage 98 succssful\nPage 99 succssful\nPage 100 succssful\nPage 101 succssful\nPage 102 succssful\nPage 103 succssful\nPage 104 succssful\nPage 105 succssful\nPage 106 succssful\nPage 107 succssful\nPage 108 succssful\nPage 109 succssful\nPage 110 succssful\nPage 111 succssful\nPage 112 succssful\nPage 113 succssful\nPage 114 succssful\nPage 115 succssful\nPage 116 succssful\nPage 117 succssful\nPage 118 succssful\nPage 119 succssful\nPage 120 succssful\nPage 121 succssful\nPage 122 succssful\nPage 123 succssful\nPage 124 succssful\nPage 125 succssful\nPage 126 succssful\nPage 127 succssful\nPage 128 succssful\nPage 129 succssful\nPage 130 succssful\nPage 131 succssful\nPage 132 succssful\nPage 133 succssful\nPage 134 succssful\nPage 135 succssful\nPage 136 succssful\nPage 137 succssful\nPage 138 succssful\nPage 139 succssful\nPage 140 succssful\nPage 141 succssful\nPage 142 succssful\nPage 143 succssful\nPage 144 succssful\nPage 145 succssful\nPage 146 succssful\nPage 147 succssful\nPage 148 succssful\nPage 149 succssful\nPage 150 succssful\nPage 151 succssful\nPage 152 succssful\nPage 153 succssful\nPage 154 succssful\nPage 155 succssful\nPage 156 succssful\nPage 157 succssful\nPage 158 succssful\nPage 159 succssful\nPage 160 succssful\nPage 161 succssful\nPage 162 succssful\nPage 163 succssful\nPage 164 succssful\nPage 165 succssful\nPage 166 succssful\nPage 167 succssful\nPage 168 succssful\nPage 169 succssful\nPage 170 succssful\nPage 171 succssful\nPage 172 succssful\nPage 173 succssful\nPage 174 succssful\nPage 175 succssful\nPage 176 succssful\nPage 177 succssful\nPage 178 succssful\nPage 179 succssful\nPage 180 succssful\nPage 181 succssful\nPage 182 succssful\nPage 183 succssful\nPage 184 succssful\nPage 185 succssful\nPage 186 succssful\nPage 187 succssful\nPage 188 succssful\nPage 189 succssful\nPage 190 succssful\nPage 191 succssful\nPage 192 succssful\nPage 193 succssful\nPage 194 succssful\nPage 195 succssful\nPage 196 succssful\nPage 197 succssful\nPage 198 succssful\nPage 199 succssful\nPage 200 succssful\nPage 201 succssful\nPage 202 succssful\nPage 203 succssful\nPage 204 succssful\nPage 205 succssful\nPage 206 succssful\nPage 207 succssful\nPage 208 succssful\nPage 209 succssful\nPage 210 succssful\nPage 211 succssful\nPage 212 succssful\nPage 213 succssful\nPage 214 succssful\nPage 215 succssful\nPage 216 succssful\nPage 217 succssful\nPage 218 succssful\nPage 219 succssful\nPage 220 succssful\nPage 221 succssful\nPage 222 succssful\nPage 223 succssful\nPage 224 succssful\nPage 225 succssful\nPage 226 succssful\nPage 227 succssful\nPage 228 succssful\nPage 229 succssful\nPage 230 succssful\nPage 231 succssful\nPage 232 succssful\nPage 233 succssful\nPage 234 succssful\nPage 235 succssful\nPage 236 succssful\nPage 237 succssful\nPage 238 succssful\nPage 239 succssful\nPage 240 succssful\nPage 241 succssful\nPage 242 succssful\nPage 243 succssful\nPage 244 succssful\nPage 245 succssful\nPage 246 succssful\nPage 247 succssful\nPage 248 succssful\nPage 249 succssful\nPage 250 succssful\nPage 251 succssful\nPage 252 succssful\nPage 253 succssful\nPage 254 succssful\nPage 255 succssful\nPage 256 succssful\nPage 257 succssful\nPage 258 succssful\nPage 259 succssful\nPage 260 succssful\nPage 261 succssful\nPage 262 succssful\nPage 263 succssful\nPage 264 succssful\nPage 265 succssful\nPage 266 succssful\nPage 267 succssful\nPage 268 succssful\nPage 269 succssful\nPage 270 succssful\nPage 271 succssful\nPage 272 succssful\nPage 273 succssful\nPage 274 succssful\nPage 275 succssful\nPage 276 succssful\nPage 277 succssful\nPage 278 succssful\nPage 279 succssful\nPage 280 succssful\nPage 281 succssful\nPage 282 succssful\nPage 283 succssful\nPage 284 succssful\nPage 285 succssful\nPage 286 succssful\nPage 287 succssful\nPage 288 succssful\nPage 289 succssful\nPage 290 succssful\nPage 291 succssful\nPage 292 succssful\nPage 293 succssful\nPage 294 succssful\nPage 295 succssful\nPage 296 succssful\nPage 297 succssful\nPage 298 succssful\nPage 299 succssful\nPage 300 succssful\n"
    }
   ],
   "source": [
    "# gets list of all beers but its too big for one query search so we have to flip through pages\n",
    "sand_key = '4a258306b3cc57d4ce3fee92bc4d7b24'\n",
    "base_url = \"https://sandbox-api.brewerydb.com/v2/beers/\"\n",
    "urlq = f\"{base_url}?key={sand_key}\"\n",
    "\n",
    "response = requests.get(urlq).json()\n",
    "\n",
    "# set page range with data found on first page of json\n",
    "p_start = 1\n",
    "p_last = 301\n",
    "q_range = range(p_start, p_last,1)\n",
    "beers2 = {}\n",
    "\n",
    "# for each page in data:\n",
    "for page in q_range:\n",
    "    response = requests.get(f'{urlq}&p={page}').json()\n",
    "    beers2.update(response)\n",
    "    brewery = json_normalize(beers2['data'])\n",
    "    brewery.to_csv(f'beers/Beers{page}.csv',index=False)\n",
    "    print(f'Page {page} succssful')\n",
    "    time.sleep(1)\n"
   ]
  },
  {
   "cell_type": "code",
   "execution_count": 18,
   "metadata": {},
   "outputs": [],
   "source": [
    "# pull in all csvs to one df, delete old csv's and export as final df/csv\n",
    "import os\n",
    "beers_df = pd.read_csv('beers/Beers_1.csv')\n",
    "csv_range = range(2,301,1)\n",
    "\n",
    "for csv in csv_range:\n",
    "    b = pd.read_csv(f'beers/Beers_{csv}.csv')\n",
    "    beers_df = pd.concat([beers_df,b])\n",
    "    os.remove(f'beers/Beers_{csv}.csv')\n",
    "os.remove(f'beers/Beers_1.csv')\n",
    "beers_df.to_csv(f'beers/Beers_Final(sample).csv',index=False)"
   ]
  },
  {
   "cell_type": "code",
   "execution_count": null,
   "metadata": {},
   "outputs": [],
   "source": []
  },
  {
   "cell_type": "code",
   "execution_count": null,
   "metadata": {},
   "outputs": [],
   "source": [
    "# Below was our initial approach to grabbing the data. This would have worked and we could have used all of the beers in their db but with the api call limits, it would have taken 10 days in order to pull all of the files so instead we went with the sandbox data since we could grab all "
   ]
  },
  {
   "cell_type": "code",
   "execution_count": null,
   "metadata": {},
   "outputs": [],
   "source": [
    "# gets list of all beers but its too big for one query search so we have to flip through pages\n",
    "base_url = \"https://api.brewerydb.com/v2/beers\"\n",
    "urlq = f\"{base_url}?key={brew}\"\n",
    "\n",
    "response = requests.get(urlq).json()\n",
    "\n",
    "# set page range with data found on first page of json\n",
    "p_start = response['currentPage']\n",
    "p_last = response['numberOfPages']\n",
    "q_range = range(p_start, p_last,1)\n",
    "beers = {\n",
    "\n",
    "}\n",
    "\n",
    "# for each page in data:\n",
    "for page in q_range:\n",
    "    response = requests.get(f'{urlq}&p={page}').json()\n",
    "    beers.update(response)\n",
    "    print(f'Page {page} succssful')\n",
    "    time.sleep(1)\n",
    "\n",
    "\n",
    "\n",
    "\n",
    "\n",
    "#     # For each beer on page\n",
    "#     for beer in response['data']:\n",
    "        \n",
    "#         beer_id.append(beer['id'])\n",
    "# len(beer_id) stopped at 268"
   ]
  }
 ],
 "metadata": {
  "language_info": {
   "codemirror_mode": {
    "name": "ipython",
    "version": 3
   },
   "file_extension": ".py",
   "mimetype": "text/x-python",
   "name": "python",
   "nbconvert_exporter": "python",
   "pygments_lexer": "ipython3",
   "version": "3.7.7-final"
  },
  "orig_nbformat": 2,
  "kernelspec": {
   "name": "python3",
   "display_name": "Python 3"
  }
 },
 "nbformat": 4,
 "nbformat_minor": 2
}
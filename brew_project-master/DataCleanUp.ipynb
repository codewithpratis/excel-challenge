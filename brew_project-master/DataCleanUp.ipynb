{
 "cells": [
  {
   "cell_type": "code",
   "execution_count": 1,
   "metadata": {},
   "outputs": [],
   "source": [
    "import pandas as pd\n",
    "\n",
    "Amendment = \"breweries/21st_Amendment.csv\"\n",
    "Anchor = \"breweries/Anchor_Brewing.csv\"\n",
    "Budweiser = \"breweries/anheuser_busch.csv\"\n",
    "SamAdams = \"breweries/Boston_Beer.csv\"\n",
    "Tecate = \"breweries/Cervecería_Cuauhtémoc_Moctezuma(Tecate).csv\"\n",
    "Coors = \"breweries/Coors.csv\"\n",
    "Corona = \"breweries/Grupo_Modelo(Corona).csv\"\n",
    "Heineken = \"breweries/Heineken.csv\"\n",
    "lagunitas = \"breweries/lagunitas.csv\"\n",
    "Miller = \"breweries/Miller.csv\"\n",
    "SierraNevada = \"breweries/sierra_nevada.csv\"\n",
    "Stone = \"breweries/Stone.csv\"\n",
    "Track_7 = \"breweries/Track_7.csv\"\n",
    "white_claw = \"breweries/white_claw.csv\"\n",
    "\n",
    "Amendmentdf = pd.read_csv(Amendment)\n",
    "Anchordf = pd.read_csv(Anchor)\n",
    "Budweiserdf = pd.read_csv(Budweiser)\n",
    "SamAdamsdf = pd.read_csv(SamAdams)\n",
    "Tecatedf = pd.read_csv(Tecate)\n",
    "Coorsdf = pd.read_csv(Coors)\n",
    "Coronadf = pd.read_csv(Corona)\n",
    "Heinekendf = pd.read_csv(Heineken)\n",
    "lagunitasdf = pd.read_csv(lagunitas)\n",
    "Millerdf = pd.read_csv(Miller)\n",
    "SierraNevadadf = pd.read_csv(SierraNevada)\n",
    "Stonedf = pd.read_csv(Stone)\n",
    "Track_7df = pd.read_csv(Track_7)\n",
    "white_clawdf = pd.read_csv(white_claw)"
   ]
  },
  {
   "cell_type": "code",
   "execution_count": 2,
   "metadata": {},
   "outputs": [],
   "source": [
    "Amendmentdf[\"Brewery\"] = \"21st Amendment\"\n",
    "Anchordf[\"Brewery\"] = \"Anchor Brewing Company\"\n",
    "Budweiserdf[\"Brewery\"] = \"Anheuser-Busch InBev\"\n",
    "SamAdamsdf[\"Brewery\"] = \"Boston Beer Company\"\n",
    "Tecatedf[\"Brewery\"] = \"CCM(Tecate)\"\n",
    "Coorsdf[\"Brewery\"] = \"Coors Brewing Company\"\n",
    "Coronadf[\"Brewery\"] = \"Grupo Modelo(Corona)\"\n",
    "Heinekendf[\"Brewery\"] = \"Heineken\"\n",
    "lagunitasdf[\"Brewery\"] = \"Lagunitas Brewing Company\"\n",
    "Millerdf[\"Brewery\"] = \"Miller Brewing Company\"\n",
    "SierraNevadadf[\"Brewery\"] = \"Sierra Nevada Brewing Co.\"\n",
    "Stonedf[\"Brewery\"] = \"Stone Brewing\"\n",
    "Track_7df[\"Brewery\"] = \"Track 7 Brewing Company\"\n",
    "white_clawdf[\"Brewery\"] = \"White Claw Hard Seltzer\"\n",
    "\n",
    "Amendmentdf.head()\n",
    "\n",
    "Breweriesdf = Amendmentdf.append((Anchordf, Budweiserdf, SamAdamsdf, Tecatedf, Coorsdf, Coronadf, Heinekendf, lagunitasdf, Millerdf, SierraNevadadf, Stonedf, Track_7df, white_clawdf), ignore_index=True, sort=False)\n",
    "\n",
    "FreshNClean = Breweriesdf.drop(columns=['styleId', 'status', 'statusDisplay', 'style.id', 'style.categoryId', 'style.category.id', 'labels.icon','labels.medium', 'labels.large','labels.contentAwareIcon', 'labels.contentAwareMedium','labels.contentAwareLarge', 'availableId','available.id', 'locationId', 'location.id','location.name', 'location.streetAddress', 'location.locality','location.postalCode', 'location.website', 'location.isPrimary','location.inPlanning', 'location.isClosed','location.openToPublic', 'location.locationType','location.locationTypeDisplay', 'location.countryIsoCode','location.status', 'location.statusDisplay', 'location.createDate','location.updateDate', 'location.country.isoCode','location.country.name', 'location.country.displayName','location.country.isoThree', 'location.country.numberCode','location.country.createDate', 'location.extendedAddress','location.region', 'location.phone', 'location.yearOpened'])\n",
    "\n",
    "FreshNClean[\"Average ABV\"] = \"\"\n",
    "FreshNClean[\"Average IBU\"] = \"\"\n",
    "\n"
   ]
  },
  {
   "cell_type": "code",
   "execution_count": 3,
   "metadata": {},
   "outputs": [
    {
     "data": {
      "text/plain": [
       "array(['id', 'name', 'nameDisplay', 'abv', 'isRetired', 'createDate',\n",
       "       'updateDate', 'style.category.name', 'style.category.createDate',\n",
       "       'style.name', 'style.shortName', 'style.description',\n",
       "       'style.ibuMin', 'style.ibuMax', 'style.abvMin', 'style.abvMax',\n",
       "       'style.srmMin', 'style.srmMax', 'style.ogMin', 'style.fgMin',\n",
       "       'style.fgMax', 'style.createDate', 'style.updateDate',\n",
       "       'style.ogMax', 'ibu', 'available.name', 'available.description',\n",
       "       'Brewery', 'year', 'style.category.description',\n",
       "       'style.category.updateDate', 'Average ABV', 'Average IBU'],\n",
       "      dtype=object)"
      ]
     },
     "execution_count": 3,
     "metadata": {},
     "output_type": "execute_result"
    }
   ],
   "source": [
    "FreshNClean.columns.values"
   ]
  },
  {
   "cell_type": "code",
   "execution_count": 6,
   "metadata": {},
   "outputs": [],
   "source": [
    "FreshNClean.to_csv(\"breweries/AllBreweries.csv\", index=False)\n"
   ]
  },
  {
   "cell_type": "code",
   "execution_count": 2,
   "metadata": {},
   "outputs": [],
   "source": [
    "beers = \"beers/Beers_Final(sample).csv\"\n",
    "\n",
    "beersdf = pd.read_csv(beers)\n",
    "\n"
   ]
  },
  {
   "cell_type": "code",
   "execution_count": 3,
   "metadata": {},
   "outputs": [
    {
     "data": {
      "text/plain": [
       "array(['id', 'name', 'nameDisplay', 'abv', 'glasswareId', 'styleId',\n",
       "       'isOrganic', 'isRetired', 'status', 'statusDisplay', 'createDate',\n",
       "       'updateDate', 'labels.icon', 'labels.medium', 'labels.large',\n",
       "       'labels.contentAwareIcon', 'labels.contentAwareMedium',\n",
       "       'labels.contentAwareLarge', 'glass.id', 'glass.name',\n",
       "       'glass.createDate', 'style.id', 'style.categoryId',\n",
       "       'style.category.id', 'style.category.name',\n",
       "       'style.category.createDate', 'style.name', 'style.shortName',\n",
       "       'style.description', 'style.ibuMin', 'style.ibuMax',\n",
       "       'style.abvMin', 'style.abvMax', 'style.srmMin', 'style.srmMax',\n",
       "       'style.ogMin', 'style.fgMin', 'style.fgMax', 'style.createDate',\n",
       "       'style.updateDate', 'description', 'ibu', 'originalGravity',\n",
       "       'availableId', 'foodPairings', 'available.id', 'available.name',\n",
       "       'available.description', 'year', 'style.ogMax', 'srmId', 'srm.id',\n",
       "       'srm.name', 'srm.hex', 'servingTemperature',\n",
       "       'servingTemperatureDisplay', 'style.category.description',\n",
       "       'style.category.updateDate'], dtype=object)"
      ]
     },
     "execution_count": 3,
     "metadata": {},
     "output_type": "execute_result"
    }
   ],
   "source": [
    "beersdf.columns.values"
   ]
  },
  {
   "cell_type": "code",
   "execution_count": 4,
   "metadata": {},
   "outputs": [
    {
     "data": {
      "text/plain": [
       "array(['id', 'name', 'nameDisplay', 'abv', 'isOrganic', 'isRetired',\n",
       "       'createDate', 'updateDate', 'glass.name', 'style.category.name',\n",
       "       'style.category.createDate', 'style.name', 'style.shortName',\n",
       "       'style.ibuMin', 'style.ibuMax', 'style.abvMin', 'style.abvMax',\n",
       "       'style.srmMin', 'style.srmMax', 'style.ogMin', 'style.fgMin',\n",
       "       'style.fgMax', 'style.createDate', 'style.updateDate', 'ibu',\n",
       "       'available.name', 'year', 'style.ogMax', 'srm.name',\n",
       "       'servingTemperature', 'style.category.updateDate'], dtype=object)"
      ]
     },
     "execution_count": 4,
     "metadata": {},
     "output_type": "execute_result"
    }
   ],
   "source": [
    "CleanBeerData = beersdf.drop(columns=['glasswareId', 'styleId','status', 'statusDisplay', 'labels.icon', 'labels.medium', 'labels.large', 'labels.contentAwareIcon', 'labels.contentAwareMedium', 'labels.contentAwareLarge', 'glass.id', 'glass.createDate', 'style.id', 'style.categoryId', 'style.category.id', 'style.description', 'description', 'originalGravity', 'availableId', 'foodPairings', 'available.id', 'available.description', 'srmId', 'srm.id', 'srm.hex', 'servingTemperatureDisplay', 'style.category.description'])\n",
    "CleanBeerData.columns.values"
   ]
  },
  {
   "cell_type": "code",
   "execution_count": 5,
   "metadata": {},
   "outputs": [],
   "source": [
    "CleanBeerData.to_csv(\"beers/CleanBeerData.csv\", index = False)"
   ]
  }
 ],
 "metadata": {
  "kernelspec": {
   "display_name": "Python 3",
   "language": "python",
   "name": "python3"
  },
  "language_info": {
   "codemirror_mode": {
    "name": "ipython",
    "version": 3
   },
   "file_extension": ".py",
   "mimetype": "text/x-python",
   "name": "python",
   "nbconvert_exporter": "python",
   "pygments_lexer": "ipython3",
   "version": "3.6.10"
  }
 },
 "nbformat": 4,
 "nbformat_minor": 4
}

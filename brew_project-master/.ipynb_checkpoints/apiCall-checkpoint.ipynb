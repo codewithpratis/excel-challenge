{
 "cells": [
  {
   "cell_type": "code",
   "execution_count": 1,
   "metadata": {},
   "outputs": [],
   "source": [
    "# Dependencies and Setup\n",
    "import matplotlib.pyplot as plt\n",
    "import csv\n",
    "import pandas as pd\n",
    "import numpy as np\n",
    "import requests\n",
    "import json\n",
    "from pprint import pprint\n",
    "from pandas.io.json import json_normalize\n",
    "\n",
    "\n",
    "\n",
    "# Import API key\n",
    "from api_key import brew\n"
   ]
  },
  {
   "cell_type": "code",
   "execution_count": 35,
   "metadata": {
    "tags": [
     "outputPrepend",
     "outputPrepend"
    ]
   },
   "outputs": [],
   "source": [
    "import json\n",
    "with open('wc.json', 'w', encoding='utf-8') as f:\n",
    "    json.dump(response, f, ensure_ascii=False, indent=4)"
   ]
  },
  {
   "cell_type": "code",
   "execution_count": 31,
   "metadata": {},
   "outputs": [],
   "source": [
    "brewery = json_normalize(response['data'])\n",
    "brewery.to_csv('Anchor Brewing.csv',index=False)"
   ]
  },
  {
   "cell_type": "code",
   "execution_count": 30,
   "metadata": {},
   "outputs": [],
   "source": [
    "base_url = \"https://api.brewerydb.com/v2/brewery/6PBXvz/beers\"\n",
    "\n",
    "urlq = f\"{base_url}?key={brew}\"\n",
    "\n",
    "response = requests.get(urlq).json()\n",
    "\n"
   ]
  },
  {
   "cell_type": "code",
   "execution_count": null,
   "metadata": {},
   "outputs": [],
   "source": [
    "# gets list of all beers but its too big for one query search so we have to flip through pages\n",
    "base_url = \"https://api.brewerydb.com/v2/beers\"\n",
    "urlq = f\"{base_url}?key={brew}\"\n",
    "\n",
    "response = requests.get(urlq).json()\n",
    "\n",
    "# set page range with data found on first page of json\n",
    "p_start = response['currentPage']\n",
    "p_last = response['numberOfPages']\n",
    "q_range = range(p_start, p_last,1)\n",
    "\n",
    "# for each page in data:\n",
    "for page in q_range:\n",
    "    response = requests.get(f'{urlq}&p={page}').json()\n",
    "    # For each beer on page\n",
    "    for beer in response['data']:\n",
    "        \n",
    "        beer_id.append(beer['id'])\n",
    "len(beer_id)"
   ]
  },
  {
   "cell_type": "code",
   "execution_count": null,
   "metadata": {},
   "outputs": [],
   "source": []
  },
  {
   "cell_type": "code",
   "execution_count": null,
   "metadata": {},
   "outputs": [],
   "source": []
  },
  {
   "cell_type": "code",
   "execution_count": null,
   "metadata": {},
   "outputs": [],
   "source": []
  },
  {
   "cell_type": "code",
   "execution_count": null,
   "metadata": {},
   "outputs": [],
   "source": []
  }
 ],
 "metadata": {
  "kernelspec": {
   "display_name": "Python 3",
   "language": "python",
   "name": "python3"
  },
  "language_info": {
   "codemirror_mode": {
    "name": "ipython",
    "version": 3
   },
   "file_extension": ".py",
   "mimetype": "text/x-python",
   "name": "python",
   "nbconvert_exporter": "python",
   "pygments_lexer": "ipython3",
   "version": "3.7.6"
  }
 },
 "nbformat": 4,
 "nbformat_minor": 2
}
